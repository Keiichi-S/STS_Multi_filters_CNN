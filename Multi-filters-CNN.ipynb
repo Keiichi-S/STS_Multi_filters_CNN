{
 "cells": [
  {
   "cell_type": "code",
   "execution_count": 1,
   "metadata": {},
   "outputs": [],
   "source": [
    "import os\n",
    "from gensim.models import KeyedVectors\n",
    "word2vec = KeyedVectors.load_word2vec_format('GoogleNews-vectors-negative300.bin.gz', binary=True)"
   ]
  },
  {
   "cell_type": "code",
   "execution_count": 2,
   "metadata": {},
   "outputs": [],
   "source": [
    "def file_open(input):\n",
    "    sentences1 = []\n",
    "    sentences2 = []\n",
    "    with open(input, 'r', encoding='utf-8') as fileobj:\n",
    "        while True:\n",
    "            line = fileobj.readline()\n",
    "            if line :\n",
    "                s = line.split('\\t')\n",
    "                s[0] = s[0].rstrip().replace('.', ' ').replace('\"', ' ').replace(\"'\", \" \").replace(\"-\", \" \").replace(\":\", \" \").replace(\"%\", \" \").replace(\"*\", \" \").replace(\"!\", \" \").replace(\"?\", \" \").replace(\"@\", \" \").replace('/', ' ').replace(\",\", ' ').replace('(', ' ').replace(')', ' ').replace('#', ' ')\n",
    "                sentences1.append(s[0])\n",
    "                s[1] = s[1].rstrip().replace('.', ' ').replace('\"', ' ').replace(\"'\", \" \").replace(\"-\", \" \").replace(\":\", \" \").replace(\"%\", \" \").replace(\"*\", \" \").replace(\"!\", \" \").replace(\"?\", \" \").replace(\"@\", \" \").replace('/', ' ').replace(\",\", ' ').replace('(', ' ').replace(')', ' ').replace('#', ' ')\n",
    "                sentences2.append(s[1])\n",
    "            else:\n",
    "                break\n",
    "    return sentences1, sentences2"
   ]
  },
  {
   "cell_type": "code",
   "execution_count": 3,
   "metadata": {},
   "outputs": [],
   "source": [
    "def label_open(input):\n",
    "    with open(input, \"r\") as fileobj:\n",
    "        labels = [float(s.strip())/5. for s in fileobj.readlines()]\n",
    "    labels = np.asarray(labels)\n",
    "    return labels"
   ]
  },
  {
   "cell_type": "code",
   "execution_count": 4,
   "metadata": {},
   "outputs": [],
   "source": [
    "import numpy as np\n",
    "sentences1, sentences2 = file_open(\"input/STS.input.OnWN.txt\")\n",
    "labels = label_open(\"gs/STS.gs.OnWN.txt\")\n",
    "\n",
    "sentences1n, sentences2n = file_open(\"input/STS.input.MSRvid.txt\")\n",
    "sentences1 = np.concatenate([sentences1, sentences1n], axis=0)\n",
    "sentences2 = np.concatenate([sentences2, sentences2n], axis=0)\n",
    "labelsn = label_open(\"gs/STS.gs.MSRvid.txt\")\n",
    "labels = np.concatenate([labels, labelsn], axis=0)\n",
    "\n",
    "sentences1n, sentences2n = file_open(\"input/STS.input.SMTeuroparl.txt\")\n",
    "sentences1 = np.concatenate([sentences1, sentences1n], axis=0)\n",
    "sentences2 = np.concatenate([sentences2, sentences2n], axis=0)\n",
    "labelsn = label_open(\"gs/STS.gs.SMTeuroparl.txt\")\n",
    "labels = np.concatenate([labels, labelsn], axis=0)\n",
    "\n",
    "\n",
    "sentences1n, sentences2n = file_open(\"input/STS.input.tweet-news.txt\")\n",
    "sentences1 = np.concatenate([sentences1, sentences1n], axis=0)\n",
    "sentences2 = np.concatenate([sentences2, sentences2n], axis=0)\n",
    "labelsn = label_open(\"gs/STS.gs.tweet-news.txt\")\n",
    "labels = np.concatenate([labels, labelsn], axis=0)\n"
   ]
  },
  {
   "cell_type": "code",
   "execution_count": 5,
   "metadata": {},
   "outputs": [
    {
     "name": "stderr",
     "output_type": "stream",
     "text": [
      "Using TensorFlow backend.\n"
     ]
    }
   ],
   "source": [
    "from nltk.stem import *\n",
    "from keras.preprocessing.text import *\n",
    "from keras.preprocessing.sequence import pad_sequences\n",
    "import nltk\n",
    "\n",
    "\n",
    "def lemmatize(texts):\n",
    "    s = []\n",
    "    a = np.zeros((len(texts), 75, 300))\n",
    "    for text in texts:\n",
    "        s.append(text_to_word_sequence(text))\n",
    "    for i, text in enumerate(s):\n",
    "        for j, word in enumerate(text):\n",
    "            if word in word2vec:\n",
    "                a[i][j][:] = word2vec[word]\n",
    "            else:\n",
    "                continue\n",
    "    return a"
   ]
  },
  {
   "cell_type": "code",
   "execution_count": 6,
   "metadata": {},
   "outputs": [
    {
     "name": "stdout",
     "output_type": "stream",
     "text": [
      "Shape of data tensor: (2984, 75, 300)\n",
      "Shape of labels tensor: (2984,)\n"
     ]
    }
   ],
   "source": [
    "max_len = 75\n",
    "data_left = lemmatize(sentences1)\n",
    "data_right = lemmatize(sentences2)\n",
    "\n",
    "labels = np.asarray(labels)\n",
    "print('Shape of data tensor:', data_left.shape)\n",
    "print('Shape of labels tensor:', labels.shape)\n",
    "\n",
    "indices = np.arange(data_left.shape[0])\n",
    "np.random.shuffle(indices)\n",
    "data_left = data_left[indices]\n",
    "data_right = data_right[indices]\n",
    "labels = labels[indices]\n"
   ]
  },
  {
   "cell_type": "code",
   "execution_count": 9,
   "metadata": {},
   "outputs": [],
   "source": [
    "import keras\n",
    "from keras.layers import *\n",
    "from keras.models import *\n",
    "from keras_self_attention import SeqSelfAttention\n",
    "max_len = 75\n",
    "\n",
    "def build_model():\n",
    "    input_left = Input(shape=(max_len, 300), name='input1')\n",
    "    input_right = Input(shape=(max_len, 300), name='input2')\n",
    "   \n",
    "\n",
    "    attention = SeqSelfAttention(attention_activation='sigmoid', kernel_regularizer=keras.regularizers.l2(1e-6), bias_regularizer=keras.regularizers.l1(1e-4), attention_regularizer_weight=1e-4)\n",
    "\n",
    "    conv1 = Conv1D(300, 3, activation='relu')\n",
    "    conv2 = Conv1D(300, 5, activation='relu')\n",
    "    conv3 = Conv1D(300, 7, activation='relu')\n",
    "    \n",
    "    embed_left = attention(input_left)\n",
    "\n",
    "    left1 = conv1(embed_left)\n",
    "    left1 = MaxPooling1D(2)(left1)\n",
    "    left1 = GlobalAveragePooling1D()(left1)\n",
    "      \n",
    "    left2 = conv2(embed_left)\n",
    "    left2 = MaxPooling1D(2)(left2)\n",
    "    left2 = GlobalAveragePooling1D()(left2)\n",
    "      \n",
    "    left3 = conv3(embed_left)\n",
    "    left3 = MaxPooling1D(2)(left3)\n",
    "    left3 = GlobalAveragePooling1D()(left3)\n",
    "  \n",
    "    all_embed_left = GlobalAveragePooling1D()(input_left)\n",
    "\n",
    "    left1 = add([left1, all_embed_left])\n",
    "    left2 = add([left2, all_embed_left])\n",
    "    left3 = add([left3, all_embed_left])\n",
    "\n",
    "\n",
    "    \n",
    "    embed_right = attention(input_right)\n",
    "\n",
    "    right1 = conv1(embed_right)\n",
    "    right1 = MaxPooling1D(2)(right1)\n",
    "    right1 = GlobalAveragePooling1D()(right1)\n",
    "    \n",
    "    right2 = conv2(embed_right)\n",
    "    right2 = MaxPooling1D(2)(right2)\n",
    "    right2 = GlobalAveragePooling1D()(right2)\n",
    "    \n",
    "    right3 = conv3(embed_right)\n",
    "    right3 = MaxPooling1D(2)(right3)\n",
    "    right3 = GlobalAveragePooling1D()(right3)\n",
    "    \n",
    "    all_embed_right = GlobalAveragePooling1D()(input_right)\n",
    "    \n",
    "\n",
    "    right1 = add([right1, all_embed_right])\n",
    "    right2 = add([right2, all_embed_right])\n",
    "    right3 = add([right3, all_embed_right])\n",
    "\n",
    "    out1 = Dot(axes=-1, normalize=True)([left1, right1])\n",
    "    out2 = Dot(axes=-1, normalize=True)([left2, right2])\n",
    "    out3 = Dot(axes=-1, normalize=True)([left3, right3])\n",
    "   \n",
    "    out = average([out1, out2, out3])\n",
    "\n",
    "    model = Model(inputs=[input_left, input_right], output=out)\n",
    "\n",
    "    model.compile(loss='mse', optimizer='adam', metrics=['mae'])\n",
    "    model.summary()\n",
    "    return model"
   ]
  },
  {
   "cell_type": "code",
   "execution_count": null,
   "metadata": {},
   "outputs": [],
   "source": [
    "from keras.callbacks import *\n",
    "\n",
    "model = build_model()\n",
    "history = model.fit([data_left, data_right], labels, validation_split=0.2, epochs=20, batch_size=100, callbacks=[ModelCheckpoint(filepath='my_model_cnn.h5', monitor='val_loss', save_best_only=True)])"
   ]
  },
  {
   "cell_type": "code",
   "execution_count": null,
   "metadata": {},
   "outputs": [],
   "source": [
    "import matplotlib.pyplot as plt\n",
    "import numpy as np\n",
    "num_epochs=100\n",
    "\n",
    "mae = history.history[\"mae\"]\n",
    "val_mae = history.history['val_mae']\n",
    "loss = history.history['loss']\n",
    "val_loss = history.history['val_loss']\n",
    "\n",
    "epochs = range(1, len(mae) + 1)\n",
    "\n",
    "plt.plot(epochs, loss, 'bo', label='Traing loss')\n",
    "plt.plot(epochs, val_loss, 'b', label='Validation loss')\n",
    "plt.title('Training and validation loss')\n",
    "plt.legend()\n",
    "plt.figure()\n",
    "\n",
    "plt.plot(epochs, mae, 'bo', label='Traing mae')\n",
    "plt.plot(epochs, val_mae, 'b', label='Validation mae')\n",
    "plt.title('Training and validation mae')\n",
    "plt.legend()\n",
    "\n",
    "plt.show()"
   ]
  },
  {
   "cell_type": "code",
   "execution_count": 10,
   "metadata": {},
   "outputs": [],
   "source": [
    "test1, test2 = file_open(\"input/STS.input.images.txt\")\n",
    "test1 = lemmatize(test1)\n",
    "test2 = lemmatize(test2)\n",
    "\n",
    "model.load_weights('my_model_cnn.h5')\n",
    "prediction = model.predict([test1, test2])"
   ]
  }
 ],
 "metadata": {
  "kernelspec": {
   "display_name": "Python 3",
   "language": "python",
   "name": "python3"
  },
  "language_info": {
   "codemirror_mode": {
    "name": "ipython",
    "version": 3
   },
   "file_extension": ".py",
   "mimetype": "text/x-python",
   "name": "python",
   "nbconvert_exporter": "python",
   "pygments_lexer": "ipython3",
   "version": "3.7.3"
  }
 },
 "nbformat": 4,
 "nbformat_minor": 2
}
